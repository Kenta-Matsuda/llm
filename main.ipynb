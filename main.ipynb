{
 "cells": [
  {
   "cell_type": "markdown",
   "metadata": {},
   "source": [
    "# 大規模言語モデル入門"
   ]
  },
  {
   "cell_type": "markdown",
   "metadata": {},
   "source": [
    "### 第１章　はじめに\n",
    "> transformersを利用した自然言語処理\n",
    "> - 文書分類\n",
    "> - 自然言語推論\n",
    "> - 意味的類似度計算\n",
    "> - 固有表現認識\n",
    "> - 要約生成"
   ]
  },
  {
   "cell_type": "code",
   "execution_count": 6,
   "metadata": {},
   "outputs": [],
   "source": [
    "# 文書分類\n",
    "\n",
    "# pipelines機能の利用\n",
    "from transformers import pipeline\n",
    "\n",
    "# 【文書分類】\n",
    "text_classification_pipeline = pipeline(\n",
    "  # 商品レビューで学習しているモデル\n",
    "  model=\"llm-book/bert-base-japanese-v3-marc_ja\"\n",
    ")"
   ]
  },
  {
   "cell_type": "code",
   "execution_count": 7,
   "metadata": {},
   "outputs": [
    {
     "name": "stdout",
     "output_type": "stream",
     "text": [
      "[{'label': 'negative', 'score': 0.9859846830368042}]\n"
     ]
    }
   ],
   "source": [
    "text = \"世界には言葉が出ないほどひどい音楽がある。\"\n",
    "# textの極性を予測\n",
    "print(text_classification_pipeline(text))"
   ]
  },
  {
   "cell_type": "code",
   "execution_count": 8,
   "metadata": {},
   "outputs": [
    {
     "name": "stdout",
     "output_type": "stream",
     "text": [
      "[{'label': 'negative', 'score': 0.9948191046714783}]\n"
     ]
    }
   ],
   "source": [
    "text = \"段ボールが破損していて商品も破損していました。\"\n",
    "# textの極性を予測\n",
    "print(text_classification_pipeline(text))"
   ]
  },
  {
   "cell_type": "code",
   "execution_count": 9,
   "metadata": {},
   "outputs": [
    {
     "name": "stdout",
     "output_type": "stream",
     "text": [
      "[{'label': 'positive', 'score': 0.9994227886199951}]\n"
     ]
    }
   ],
   "source": [
    "text = \"色が可愛くてまたリピートしたいと思います。\"\n",
    "# textの極性を予測\n",
    "print(text_classification_pipeline(text))"
   ]
  },
  {
   "cell_type": "code",
   "execution_count": 10,
   "metadata": {},
   "outputs": [
    {
     "name": "stdout",
     "output_type": "stream",
     "text": [
      "[{'label': 'negative', 'score': 0.9919602274894714}]\n"
     ]
    }
   ],
   "source": [
    "text = \"色は可愛いですが、コスパが悪いのでリピートはしません。\"\n",
    "# textの極性を予測\n",
    "print(text_classification_pipeline(text))"
   ]
  },
  {
   "cell_type": "code",
   "execution_count": 11,
   "metadata": {},
   "outputs": [
    {
     "name": "stdout",
     "output_type": "stream",
     "text": [
      "[{'label': 'negative', 'score': 0.9951124787330627}]\n"
     ]
    }
   ],
   "source": [
    "text = \"高評価だったので購入しましたが、私の肌には合いませんでした。\"\n",
    "# textの極性を予測\n",
    "print(text_classification_pipeline(text))"
   ]
  },
  {
   "cell_type": "code",
   "execution_count": 13,
   "metadata": {},
   "outputs": [],
   "source": [
    "text_classification_pipeline = pipeline(\n",
    "  # luke(Language Understanding with Knowledge-based Embeddings)に基づいたモデル\n",
    "  model=\"Mizuiro-sakura/luke-japanese-base-marcja\"\n",
    ")"
   ]
  },
  {
   "cell_type": "code",
   "execution_count": 14,
   "metadata": {},
   "outputs": [
    {
     "name": "stdout",
     "output_type": "stream",
     "text": [
      "[{'label': 'LABEL_1', 'score': 0.8444828391075134}]\n"
     ]
    }
   ],
   "source": [
    "text = \"はなくそをほじったら血が出た。\"\n",
    "# textの極性を予測\n",
    "print(text_classification_pipeline(text))"
   ]
  },
  {
   "cell_type": "code",
   "execution_count": 15,
   "metadata": {},
   "outputs": [
    {
     "name": "stdout",
     "output_type": "stream",
     "text": [
      "[{'label': 'LABEL_0', 'score': 0.9971074461936951}]\n"
     ]
    }
   ],
   "source": [
    "text = \"はなくそをほじったら鼻詰まりが解消されてとても気分が良い。\"\n",
    "# textの極性を予測\n",
    "print(text_classification_pipeline(text))"
   ]
  },
  {
   "cell_type": "code",
   "execution_count": null,
   "metadata": {},
   "outputs": [],
   "source": []
  }
 ],
 "metadata": {
  "kernelspec": {
   "display_name": "Python 3 (ipykernel)",
   "language": "python",
   "name": "python3"
  },
  "language_info": {
   "codemirror_mode": {
    "name": "ipython",
    "version": 3
   },
   "file_extension": ".py",
   "mimetype": "text/x-python",
   "name": "python",
   "nbconvert_exporter": "python",
   "pygments_lexer": "ipython3",
   "version": "3.9.12"
  }
 },
 "nbformat": 4,
 "nbformat_minor": 2
}
