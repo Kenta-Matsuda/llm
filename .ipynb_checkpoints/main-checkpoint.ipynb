{
 "cells": [
  {
   "cell_type": "markdown",
   "metadata": {},
   "source": [
    "# 大規模言語モデル入門"
   ]
  },
  {
   "cell_type": "markdown",
   "metadata": {},
   "source": [
    "### 第１章　はじめに\n",
    ":::note info\n",
    "【本章の内容】\n",
    "transformersを利用した自然言語処理\n",
    ":::"
   ]
  },
  {
   "cell_type": "code",
   "execution_count": null,
   "metadata": {},
   "outputs": [],
   "source": []
  },
  {
   "cell_type": "code",
   "execution_count": null,
   "metadata": {},
   "outputs": [],
   "source": []
  },
  {
   "cell_type": "code",
   "execution_count": null,
   "metadata": {},
   "outputs": [],
   "source": [
    "# pipelines機能の利用\n",
    "from transformers import pipeline\n",
    "\n",
    "# 【文書分類】\n",
    "text_classification_pipeline = pipeline(\n",
    "  # 商品レビューで学習しているモデル\n",
    "  # model=\"llm-book/bert-base-japanese-v3-marc_ja\"\n",
    "  model=\"Mizuiro-sakura/luke-japanese-base-marcja\"\n",
    ")\n",
    "\n",
    "# text = \"世界には言葉が出ないほどひどい音楽がある。\"\n",
    "# text = \"段ボールが破損していて商品も破損していました。\"\n",
    "# text = \"色が可愛くてまたリピートしたいと思います。\"\n",
    "# text = \"色は可愛いですが、コスパが悪いのでリピートはしません。\"\n",
    "# text = \"高評価だったので購入しましたが、私の肌には合いませんでした。\"\n",
    "# text = \"お前のかあちゃんかわいい\"\n",
    "# text = \"お前のかあちゃんでべそ。\"\n",
    "# textの極性を予測\n",
    "# print(text_classification_pipeline(text))\n"
   ]
  },
  {
   "cell_type": "markdown",
   "metadata": {},
   "source": []
  }
 ],
 "metadata": {
  "kernelspec": {
   "display_name": "Python 3 (ipykernel)",
   "language": "python",
   "name": "python3"
  },
  "language_info": {
   "codemirror_mode": {
    "name": "ipython",
    "version": 3
   },
   "file_extension": ".py",
   "mimetype": "text/x-python",
   "name": "python",
   "nbconvert_exporter": "python",
   "pygments_lexer": "ipython3",
   "version": "3.9.12"
  }
 },
 "nbformat": 4,
 "nbformat_minor": 2
}
